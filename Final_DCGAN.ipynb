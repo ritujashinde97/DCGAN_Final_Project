{
  "cells": [
    {
      "cell_type": "markdown",
      "metadata": {
        "id": "view-in-github",
        "colab_type": "text"
      },
      "source": [
        "<a href=\"https://colab.research.google.com/github/ritujashinde97/DCGAN_Final_Project/blob/main/Final_DCGAN.ipynb\" target=\"_parent\"><img src=\"https://colab.research.google.com/assets/colab-badge.svg\" alt=\"Open In Colab\"/></a>"
      ]
    },
    {
      "cell_type": "code",
      "execution_count": null,
      "metadata": {
        "colab": {
          "base_uri": "https://localhost:8080/"
        },
        "id": "xhpdLeRd4PY3",
        "outputId": "5cc5eed9-94be-4965-9bcf-f8a910d037fa"
      },
      "outputs": [
        {
          "output_type": "stream",
          "name": "stdout",
          "text": [
            "Looking in indexes: https://pypi.org/simple, https://us-python.pkg.dev/colab-wheels/public/simple/\n",
            "Collecting tensorflow.io\n",
            "  Downloading tensorflow_io-0.28.0-cp37-cp37m-manylinux_2_12_x86_64.manylinux2010_x86_64.whl (26.9 MB)\n",
            "\u001b[K     |████████████████████████████████| 26.9 MB 1.5 MB/s \n",
            "\u001b[?25hCollecting tensorflow-io-gcs-filesystem==0.28.0\n",
            "  Downloading tensorflow_io_gcs_filesystem-0.28.0-cp37-cp37m-manylinux_2_12_x86_64.manylinux2010_x86_64.whl (2.4 MB)\n",
            "\u001b[K     |████████████████████████████████| 2.4 MB 43.7 MB/s \n",
            "\u001b[?25hInstalling collected packages: tensorflow-io-gcs-filesystem, tensorflow.io\n",
            "  Attempting uninstall: tensorflow-io-gcs-filesystem\n",
            "    Found existing installation: tensorflow-io-gcs-filesystem 0.27.0\n",
            "    Uninstalling tensorflow-io-gcs-filesystem-0.27.0:\n",
            "      Successfully uninstalled tensorflow-io-gcs-filesystem-0.27.0\n",
            "Successfully installed tensorflow-io-gcs-filesystem-0.28.0 tensorflow.io-0.28.0\n"
          ]
        }
      ],
      "source": [
        "!pip install tensorflow.io"
      ]
    },
    {
      "cell_type": "code",
      "execution_count": null,
      "metadata": {
        "colab": {
          "base_uri": "https://localhost:8080/"
        },
        "id": "ac_L9WkwdmNQ",
        "outputId": "6be2fdd5-37cc-45d4-f01d-93491bfd19ba"
      },
      "outputs": [
        {
          "output_type": "stream",
          "name": "stderr",
          "text": [
            "/usr/local/lib/python3.7/dist-packages/tensorflow_io/python/ops/__init__.py:98: UserWarning: unable to load libtensorflow_io_plugins.so: unable to open file: libtensorflow_io_plugins.so, from paths: ['/usr/local/lib/python3.7/dist-packages/tensorflow_io/python/ops/libtensorflow_io_plugins.so']\n",
            "caused by: ['/usr/local/lib/python3.7/dist-packages/tensorflow_io/python/ops/libtensorflow_io_plugins.so: undefined symbol: _ZN3tsl5mutexC1Ev']\n",
            "  warnings.warn(f\"unable to load libtensorflow_io_plugins.so: {e}\")\n",
            "/usr/local/lib/python3.7/dist-packages/tensorflow_io/python/ops/__init__.py:104: UserWarning: file system plugins are not loaded: unable to open file: libtensorflow_io.so, from paths: ['/usr/local/lib/python3.7/dist-packages/tensorflow_io/python/ops/libtensorflow_io.so']\n",
            "caused by: ['/usr/local/lib/python3.7/dist-packages/tensorflow_io/python/ops/libtensorflow_io.so: undefined symbol: _ZNK10tensorflow4data11DatasetBase8FinalizeEPNS_15OpKernelContextESt8functionIFN3tsl8StatusOrISt10unique_ptrIS1_NS5_4core15RefCountDeleterEEEEvEE']\n",
            "  warnings.warn(f\"file system plugins are not loaded: {e}\")\n"
          ]
        }
      ],
      "source": [
        "import os\n",
        "import numpy as np\n",
        "import cv2\n",
        "from glob import glob\n",
        "from matplotlib import pyplot\n",
        "from sklearn.utils import shuffle\n",
        "import tensorflow as tf\n",
        "import tensorflow_io as tfio\n",
        "\n",
        "from tensorflow.keras.layers import *\n",
        "from tensorflow.keras.models import Model\n",
        "from tensorflow.keras.optimizers import Adam\n",
        "from tensorflow.keras.models import load_model"
      ]
    },
    {
      "cell_type": "code",
      "execution_count": null,
      "metadata": {
        "id": "NN21MXwWef_I"
      },
      "outputs": [],
      "source": [
        "IMG_H = 64\n",
        "IMG_W = 64\n",
        "IMG_C = 3\n",
        "\n",
        "w_init = tf.keras.initializers.RandomNormal(mean=0.0, stddev=0.02)"
      ]
    },
    {
      "cell_type": "code",
      "execution_count": null,
      "metadata": {
        "colab": {
          "base_uri": "https://localhost:8080/"
        },
        "id": "0UR73qPmK7fw",
        "outputId": "e3a5542d-d5fb-4593-da81-891b8347acb0"
      },
      "outputs": [
        {
          "output_type": "stream",
          "name": "stdout",
          "text": [
            "Mounted at /content/drive\n"
          ]
        }
      ],
      "source": [
        "from google.colab import drive\n",
        "drive.mount('/content/drive')"
      ]
    },
    {
      "cell_type": "code",
      "execution_count": null,
      "metadata": {
        "colab": {
          "base_uri": "https://localhost:8080/"
        },
        "id": "O6ia3SSVhLzy",
        "outputId": "f5f11924-8610-4621-dd3f-bb1b7223fbe2"
      },
      "outputs": [
        {
          "output_type": "stream",
          "name": "stdout",
          "text": [
            "Dataset Size:  20\n"
          ]
        }
      ],
      "source": [
        "##Dataset\n",
        "images_path = glob(\"/content/drive/MyDrive/DRIVE_64/*\")\n",
        "print(\"Dataset Size: \", len(images_path))\n"
      ]
    },
    {
      "cell_type": "code",
      "execution_count": null,
      "metadata": {
        "id": "fBhPgspKiDJ3"
      },
      "outputs": [],
      "source": [
        "def load_image(image_path):\n",
        "  image = tf.io.read_file(image_path)\n",
        "  image = tf.io.decode_png(image)\n",
        "  #image = tfio.experimental.image.decode_tiff(image)\n",
        "  #image = tf.io.decode_tiff(image)\n",
        "  image = tf.image.resize(image,(IMG_H,IMG_W))\n",
        "  image = tf.cast(image, tf.float32)\n",
        "  image = (image - 127.5)/127.5\n",
        "  return image"
      ]
    },
    {
      "cell_type": "code",
      "execution_count": null,
      "metadata": {
        "colab": {
          "base_uri": "https://localhost:8080/"
        },
        "id": "NAcQof90g285",
        "outputId": "272ef730-7a74-4223-9eef-7183809bd2b7"
      },
      "outputs": [
        {
          "output_type": "stream",
          "name": "stdout",
          "text": [
            "\n"
          ]
        }
      ],
      "source": [
        "if __name__ == \"__main__\":\n",
        "  print(\"\")\n",
        "  #hyperparameters\n",
        "  batch_size = 4 #no of training examples used in one iteration\n",
        "  latent_dim = 4\n",
        "  num_epochs = 10"
      ]
    },
    {
      "cell_type": "code",
      "execution_count": null,
      "metadata": {
        "id": "gladKKmzx9JF"
      },
      "outputs": [],
      "source": [
        "def tf_dataset(images_path, batch_size):\n",
        "  dataset = tf.data.Dataset.from_tensor_slices(images_path)\n",
        "  dataset = dataset.shuffle(buffer_size = 5)\n",
        "  dataset = dataset.map(load_image, num_parallel_calls = tf.data.experimental.AUTOTUNE) #tunes the value at runtime\n",
        "  dataset = dataset.batch(batch_size)\n",
        "  dataset = dataset.prefetch(buffer_size = tf.data.experimental.AUTOTUNE)\n",
        "  return dataset "
      ]
    },
    {
      "cell_type": "code",
      "execution_count": null,
      "metadata": {
        "colab": {
          "base_uri": "https://localhost:8080/"
        },
        "id": "azywQH3_zTx6",
        "outputId": "5076b870-86b5-4dce-dc01-1e3138e1e65a"
      },
      "outputs": [
        {
          "output_type": "stream",
          "name": "stdout",
          "text": [
            "(4, 64, 64, 3)\n",
            "(4, 64, 64, 3)\n",
            "(4, 64, 64, 3)\n",
            "(4, 64, 64, 3)\n",
            "(4, 64, 64, 3)\n"
          ]
        }
      ],
      "source": [
        "dataset = tf_dataset(images_path, batch_size)\n",
        "\n",
        "for x in dataset:\n",
        "  print(x.shape)"
      ]
    },
    {
      "cell_type": "code",
      "execution_count": null,
      "metadata": {
        "id": "3tXjQH026Ahy"
      },
      "outputs": [],
      "source": [
        "#used in generator\n",
        "#deconv -> transposed convolutions \n",
        "def deconv_block(inputs, num_filters, kernel_size, strides, bn=True):\n",
        "  x = Conv2DTranspose(\n",
        "      filters = num_filters,\n",
        "      kernel_size = kernel_size, #defines field view of the convolution(2D->3*3 pixels)\n",
        "      kernel_initializer = w_init,\n",
        "      padding = \"same\", #handles border of sample\n",
        "      strides = strides, #step size while traversing the image\n",
        "      use_bias = False\n",
        "  )(inputs)\n",
        "\n",
        "  if bn : \n",
        "    x = BatchNormalization()(x)  #for training very deep neural networks that standardizes the inputs to a layer for each mini-batch\n",
        "    x = LeakyReLU(alpha=0.2)(x) #activation function\n",
        "  return x"
      ]
    },
    {
      "cell_type": "code",
      "execution_count": null,
      "metadata": {
        "id": "ULBjQL8ABhro"
      },
      "outputs": [],
      "source": [
        "#used in generator\n",
        "def conv_block(inputs, num_filters, kernel_size, padding=\"same\", strides=2, activation = True) :\n",
        "  x = Conv2D(\n",
        "      filters = num_filters,\n",
        "      kernel_size = kernel_size,\n",
        "      kernel_initializer = w_init,\n",
        "      padding = padding,\n",
        "      strides = strides\n",
        "  )(inputs)\n",
        "\n",
        "  if activation :\n",
        "    x = LeakyReLU(alpha=0.2)(x)\n",
        "    x = Dropout(0.3)(x)\n",
        "  \n",
        "  return x"
      ]
    },
    {
      "cell_type": "code",
      "execution_count": null,
      "metadata": {
        "id": "Tcx_j8nIDFZO"
      },
      "outputs": [],
      "source": [
        "#it mirrors disriminator, replacing Conv2D layers with Conv2Dtranspose\n",
        "def build_generator(latent_dim):\n",
        "  f = [2**i for i in range(5)][::-1]\n",
        "  filters = 32\n",
        "  output_strides = 16\n",
        "  h_output = IMG_H // output_strides\n",
        "  w_output = IMG_W // output_strides\n",
        "\n",
        "  noise = Input(shape=(latent_dim), name = \"gen_noise_input\")\n",
        "\n",
        "  x = Dense(f[0] * filters * h_output * w_output, use_bias = False)(noise)\n",
        "  x = BatchNormalization()(x)\n",
        "  x = LeakyReLU(alpha=0.2)(x)\n",
        "  x = Reshape((h_output, w_output, f[0] * filters))(x)\n",
        "  print(x.shape)\n",
        "  for i in range(1,5):\n",
        "    x = deconv_block(x,\n",
        "              num_filters = f[i]*filters,\n",
        "              kernel_size = 5,\n",
        "              strides = 2,\n",
        "              bn = True       \n",
        "                )\n",
        "  print(x.shape)\n",
        "\n",
        "  x = conv_block(x,\n",
        "            num_filters = 3,\n",
        "            kernel_size = 5,\n",
        "            strides = 1,\n",
        "            activation = False    \n",
        "                 )\n",
        "  fake_output = Activation(\"tanh\")(x)\n",
        "\n",
        "  return Model(noise, fake_output, name = \"generator\")"
      ]
    },
    {
      "cell_type": "code",
      "execution_count": null,
      "metadata": {
        "id": "fsYm36mLUUoJ"
      },
      "outputs": [],
      "source": [
        "def build_discriminator():\n",
        "  f = [2**i for i in range(4)]\n",
        "  filters = 64\n",
        "  output_strides = 16\n",
        "  h_output = IMG_H // output_strides\n",
        "  w_output = IMG_W // output_strides\n",
        "\n",
        "  image_input = Input(shape=(IMG_H, IMG_W, IMG_C), name = \"images\")\n",
        "  x = image_input\n",
        "\n",
        "  for i in range(0,4):\n",
        "    x = conv_block(x,\n",
        "             num_filters = f[i]*filters,\n",
        "             kernel_size = 5,\n",
        "             strides = 2,      \n",
        "                   )\n",
        "    \n",
        "    x = Flatten()(x) \n",
        "    x = Dense(1)(x)\n",
        "#Flatten layers are used when you got a multidimensional output and you want to make it linear to pass it onto a Dense layer.\n",
        "#Dense Layer is used to classify image based on output from convolutional layers.\n",
        "    return Model(image_input, x, name = \"discriminator\")"
      ]
    },
    {
      "cell_type": "code",
      "execution_count": null,
      "metadata": {
        "colab": {
          "base_uri": "https://localhost:8080/"
        },
        "id": "kMcjHO-yN7Nm",
        "outputId": "145667d8-de8a-43f1-8ad6-b64a1de1dce2"
      },
      "outputs": [
        {
          "output_type": "stream",
          "name": "stdout",
          "text": [
            "(None, 4, 4, 512)\n",
            "(None, 64, 64, 32)\n"
          ]
        }
      ],
      "source": [
        "g_model = build_generator(latent_dim)"
      ]
    },
    {
      "cell_type": "code",
      "execution_count": null,
      "metadata": {
        "id": "WZwnyFyBWRIi"
      },
      "outputs": [],
      "source": [
        "d_model = build_discriminator()"
      ]
    },
    {
      "cell_type": "code",
      "execution_count": null,
      "metadata": {
        "colab": {
          "base_uri": "https://localhost:8080/"
        },
        "id": "Hyhs3WwvWV5C",
        "outputId": "d76d359f-ead8-49f4-f2cc-852d38ccc163"
      },
      "outputs": [
        {
          "output_type": "stream",
          "name": "stdout",
          "text": [
            "Model: \"generator\"\n",
            "_________________________________________________________________\n",
            " Layer (type)                Output Shape              Param #   \n",
            "=================================================================\n",
            " gen_noise_input (InputLayer  [(None, 4)]              0         \n",
            " )                                                               \n",
            "                                                                 \n",
            " dense (Dense)               (None, 8192)              32768     \n",
            "                                                                 \n",
            " batch_normalization (BatchN  (None, 8192)             32768     \n",
            " ormalization)                                                   \n",
            "                                                                 \n",
            " leaky_re_lu (LeakyReLU)     (None, 8192)              0         \n",
            "                                                                 \n",
            " reshape (Reshape)           (None, 4, 4, 512)         0         \n",
            "                                                                 \n",
            " conv2d_transpose (Conv2DTra  (None, 8, 8, 256)        3276800   \n",
            " nspose)                                                         \n",
            "                                                                 \n",
            " batch_normalization_1 (Batc  (None, 8, 8, 256)        1024      \n",
            " hNormalization)                                                 \n",
            "                                                                 \n",
            " leaky_re_lu_1 (LeakyReLU)   (None, 8, 8, 256)         0         \n",
            "                                                                 \n",
            " conv2d_transpose_1 (Conv2DT  (None, 16, 16, 128)      819200    \n",
            " ranspose)                                                       \n",
            "                                                                 \n",
            " batch_normalization_2 (Batc  (None, 16, 16, 128)      512       \n",
            " hNormalization)                                                 \n",
            "                                                                 \n",
            " leaky_re_lu_2 (LeakyReLU)   (None, 16, 16, 128)       0         \n",
            "                                                                 \n",
            " conv2d_transpose_2 (Conv2DT  (None, 32, 32, 64)       204800    \n",
            " ranspose)                                                       \n",
            "                                                                 \n",
            " batch_normalization_3 (Batc  (None, 32, 32, 64)       256       \n",
            " hNormalization)                                                 \n",
            "                                                                 \n",
            " leaky_re_lu_3 (LeakyReLU)   (None, 32, 32, 64)        0         \n",
            "                                                                 \n",
            " conv2d_transpose_3 (Conv2DT  (None, 64, 64, 32)       51200     \n",
            " ranspose)                                                       \n",
            "                                                                 \n",
            " batch_normalization_4 (Batc  (None, 64, 64, 32)       128       \n",
            " hNormalization)                                                 \n",
            "                                                                 \n",
            " leaky_re_lu_4 (LeakyReLU)   (None, 64, 64, 32)        0         \n",
            "                                                                 \n",
            " conv2d (Conv2D)             (None, 64, 64, 3)         2403      \n",
            "                                                                 \n",
            " activation (Activation)     (None, 64, 64, 3)         0         \n",
            "                                                                 \n",
            "=================================================================\n",
            "Total params: 4,421,859\n",
            "Trainable params: 4,404,515\n",
            "Non-trainable params: 17,344\n",
            "_________________________________________________________________\n",
            "Model: \"discriminator\"\n",
            "_________________________________________________________________\n",
            " Layer (type)                Output Shape              Param #   \n",
            "=================================================================\n",
            " images (InputLayer)         [(None, 64, 64, 3)]       0         \n",
            "                                                                 \n",
            " conv2d_1 (Conv2D)           (None, 32, 32, 64)        4864      \n",
            "                                                                 \n",
            " leaky_re_lu_5 (LeakyReLU)   (None, 32, 32, 64)        0         \n",
            "                                                                 \n",
            " dropout (Dropout)           (None, 32, 32, 64)        0         \n",
            "                                                                 \n",
            " flatten (Flatten)           (None, 65536)             0         \n",
            "                                                                 \n",
            " dense_1 (Dense)             (None, 1)                 65537     \n",
            "                                                                 \n",
            "=================================================================\n",
            "Total params: 70,401\n",
            "Trainable params: 70,401\n",
            "Non-trainable params: 0\n",
            "_________________________________________________________________\n"
          ]
        }
      ],
      "source": [
        "g_model.summary()\n",
        "d_model.summary()"
      ]
    },
    {
      "cell_type": "code",
      "execution_count": null,
      "metadata": {
        "id": "bHEpm3f_YiEl"
      },
      "outputs": [],
      "source": [
        "class GAN(Model) :\n",
        "  def __init__ (self, discriminator, generator, latent_dim) :\n",
        "    super(GAN, self).__init__()\n",
        "    self.discriminator = discriminator\n",
        "    self.generator = generator\n",
        "    self.latent_dim = latent_dim\n",
        "\n",
        "  def compile(self, d_optimizer,g_optimizer,loss_fn,metric):\n",
        "    super(GAN,self).compile()\n",
        "    self.d_optimizer = d_optimizer\n",
        "    self.g_optimizer = g_optimizer\n",
        "    self.loss_fn = loss_fn\n",
        "    self.metric = metric\n",
        "  \n",
        "  def train_step(self, real_images):\n",
        "    batch_size = tf.shape(real_images)[0]\n",
        "\n",
        "    #Training Discriminator\n",
        "    for _ in range(2):\n",
        "      #Fake_images\n",
        "      random_latent_vectors = tf.random.normal(shape=(batch_size,self.latent_dim))\n",
        "      generated_images = self.generator(random_latent_vectors)\n",
        "      generated_labels = tf.zeros((batch_size, 1))\n",
        "\n",
        "      with tf.GradientTape() as ftape :\n",
        "        predictions = self.discriminator(generated_images)\n",
        "        d1_loss = self.loss_fn(generated_labels, predictions)\n",
        "        d1_acc = self.metric(generated_labels, predictions)\n",
        "\n",
        "      grads = ftape.gradient(d1_loss, self.discriminator.trainable_weights)\n",
        "      self.d_optimizer.apply_gradients(zip(grads,self.discriminator.trainable_weights))\n",
        "\n",
        "      #Real_images\n",
        "      labels = tf.ones((batch_size, 1))\n",
        "      with tf.GradientTape() as rtape :\n",
        "        predictions = self.discriminator(real_images)\n",
        "        d2_loss = self.loss_fn(labels, predictions)\n",
        "        d2_acc = self.metric(labels, predictions)\n",
        "\n",
        "      grads = rtape.gradient(d2_loss, self.discriminator.trainable_weights)\n",
        "      self.d_optimizer.apply_gradients(zip(grads,self.discriminator.trainable_weights))\n",
        "\n",
        "\n",
        "    #Training Generator\n",
        "    random_latent_vectors = tf.random.normal(shape=(batch_size,self.latent_dim))\n",
        "    misleading_labels = tf.ones((batch_size, 1))\n",
        "\n",
        "    with tf.GradientTape() as gtape: \n",
        "      predictions = self.discriminator(self.generator(random_latent_vectors))\n",
        "      g_loss = self.loss_fn(misleading_labels,predictions)\n",
        "      g_acc = self.metric(misleading_labels,predictions)\n",
        "\n",
        "    grads = gtape.gradient(g_loss, self.generator.trainable_weights)\n",
        "    self.g_optimizer.apply_gradients(zip(grads,self.generator.trainable_weights))\n",
        "\n",
        "    dict = {\"d1_loss\":d1_loss,\"d2_loss\":d2_loss,\"g_loss\":g_loss,\"d1_acc\":d1_acc,\"d2_acc\":d2_acc,\"g_acc\":g_acc}\n",
        "    \n",
        "\n",
        "    return dict;\n"
      ]
    },
    {
      "cell_type": "code",
      "execution_count": null,
      "metadata": {
        "id": "SObCZfcYewjq"
      },
      "outputs": [],
      "source": [
        "gan = GAN(d_model, g_model, latent_dim)\n"
      ]
    },
    {
      "cell_type": "code",
      "execution_count": null,
      "metadata": {
        "id": "Boptkk-_Pvut"
      },
      "outputs": [],
      "source": []
    },
    {
      "cell_type": "code",
      "execution_count": null,
      "metadata": {
        "id": "sI9H1Lxye7FZ"
      },
      "outputs": [],
      "source": [
        "bce_loss_fn = tf.keras.losses.BinaryCrossentropy(from_logits = True, label_smoothing = 0.1 ) # compares each of the predicted probabilities to actual class output which can be either 0 or 1\n",
        "d_optimizer = Adam(learning_rate=0.0002, beta_1 = 0.5)\n",
        "g_optimizer = Adam(learning_rate=0.0002, beta_1 = 0.5)\n",
        "metric = tf.keras.metrics.Accuracy()\n",
        "gan.compile(d_optimizer,g_optimizer,bce_loss_fn,metric)"
      ]
    },
    {
      "cell_type": "code",
      "execution_count": null,
      "metadata": {
        "id": "bC11w_g5V_yE"
      },
      "outputs": [],
      "source": [
        "def save_plot(examples, epoch, n):\n",
        "  examples = (examples + 1)/2.0\n",
        "  for i in range(n*n):\n",
        "    pyplot.subplot(n,n,i+1)\n",
        "    pyplot.axis(\"off\")\n",
        "    pyplot.imshow(examples[i])\n",
        "  filename = f\"/content/drive/MyDrive/sample_images_drive/fake_images_epoch_{epoch+1}.eps\"\n",
        "  pyplot.savefig(filename, format='eps')\n",
        "  pyplot.close()"
      ]
    },
    {
      "cell_type": "code",
      "source": [
        "from keras.callbacks import History \n",
        "history = History()"
      ],
      "metadata": {
        "id": "daq-XXTcfLZT"
      },
      "execution_count": null,
      "outputs": []
    },
    {
      "cell_type": "code",
      "execution_count": null,
      "metadata": {
        "colab": {
          "base_uri": "https://localhost:8080/"
        },
        "id": "bqVOVXpcnAw-",
        "outputId": "26bf2fbc-23ba-42e8-99e4-db2142d72add"
      },
      "outputs": [
        {
          "output_type": "stream",
          "name": "stdout",
          "text": [
            "Epoch 1/10\n",
            "5/5 [==============================] - 6s 418ms/step - d1_loss: 0.6832 - d2_loss: 0.2420 - g_loss: 0.7080 - d1_acc: 0.0000e+00 - d2_acc: 0.0000e+00 - g_acc: 0.0000e+00\n",
            "Epoch 2/10\n",
            "5/5 [==============================] - 2s 415ms/step - d1_loss: 0.5778 - d2_loss: 0.2055 - g_loss: 0.9055 - d1_acc: 0.0000e+00 - d2_acc: 0.0000e+00 - g_acc: 0.0000e+00\n",
            "Epoch 3/10\n",
            "5/5 [==============================] - 2s 442ms/step - d1_loss: 0.3759 - d2_loss: 0.2312 - g_loss: 1.3100 - d1_acc: 0.0000e+00 - d2_acc: 0.0000e+00 - g_acc: 0.0000e+00\n",
            "Epoch 4/10\n",
            "5/5 [==============================] - 2s 437ms/step - d1_loss: 0.2557 - d2_loss: 0.2153 - g_loss: 1.8652 - d1_acc: 0.0000e+00 - d2_acc: 0.0000e+00 - g_acc: 0.0000e+00\n",
            "Epoch 5/10\n",
            "5/5 [==============================] - 2s 439ms/step - d1_loss: 0.2090 - d2_loss: 0.2054 - g_loss: 2.3842 - d1_acc: 0.0000e+00 - d2_acc: 0.0000e+00 - g_acc: 0.0000e+00\n",
            "Epoch 6/10\n",
            "5/5 [==============================] - 2s 405ms/step - d1_loss: 0.2011 - d2_loss: 0.2023 - g_loss: 2.6372 - d1_acc: 0.0000e+00 - d2_acc: 0.0000e+00 - g_acc: 0.0000e+00\n",
            "Epoch 7/10\n",
            "5/5 [==============================] - 2s 429ms/step - d1_loss: 0.2015 - d2_loss: 0.2319 - g_loss: 2.6346 - d1_acc: 0.0000e+00 - d2_acc: 0.0000e+00 - g_acc: 0.0000e+00\n",
            "Epoch 8/10\n",
            "5/5 [==============================] - 2s 418ms/step - d1_loss: 0.2004 - d2_loss: 0.2099 - g_loss: 2.8288 - d1_acc: 0.0000e+00 - d2_acc: 0.0000e+00 - g_acc: 0.0000e+00\n",
            "Epoch 9/10\n",
            "5/5 [==============================] - 2s 429ms/step - d1_loss: 0.2151 - d2_loss: 0.3129 - g_loss: 2.4197 - d1_acc: 0.0000e+00 - d2_acc: 0.0000e+00 - g_acc: 0.0000e+00\n",
            "Epoch 10/10\n",
            "5/5 [==============================] - 2s 424ms/step - d1_loss: 0.2089 - d2_loss: 0.2473 - g_loss: 2.8902 - d1_acc: 0.0000e+00 - d2_acc: 0.0000e+00 - g_acc: 0.0000e+00\n"
          ]
        },
        {
          "output_type": "stream",
          "name": "stderr",
          "text": [
            "WARNING:tensorflow:Compiled the loaded model, but the compiled metrics have yet to be built. `model.compile_metrics` will be empty until you train or evaluate the model.\n",
            "WARNING:tensorflow:Compiled the loaded model, but the compiled metrics have yet to be built. `model.compile_metrics` will be empty until you train or evaluate the model.\n"
          ]
        },
        {
          "output_type": "stream",
          "name": "stdout",
          "text": [
            "1/1 [==============================] - 0s 248ms/step\n",
            "1/1 [==============================] - 0s 43ms/step\n",
            "1/1 [==============================] - 0s 44ms/step\n",
            "1/1 [==============================] - 0s 47ms/step\n",
            "1/1 [==============================] - 0s 42ms/step\n",
            "1/1 [==============================] - 0s 44ms/step\n",
            "1/1 [==============================] - 0s 44ms/step\n",
            "1/1 [==============================] - 0s 43ms/step\n",
            "1/1 [==============================] - 0s 46ms/step\n",
            "1/1 [==============================] - 0s 43ms/step\n"
          ]
        }
      ],
      "source": [
        "images_dataset = tf_dataset(images_path, batch_size)\n",
        "#model fitting\n",
        "\n",
        "history = gan.fit(images_dataset, epochs = num_epochs)\n",
        "g_model.save(\"Saved Model/g_model.h5\")\n",
        "d_model.save(\"Saved Model/d_model.h5\")\n",
        "for epoch in range(num_epochs):\n",
        "  n_samples = 1\n",
        "  noise = np.random.normal(size=(n_samples, latent_dim))\n",
        "  examples = g_model.predict(noise)\n",
        "  save_plot(examples, epoch, int(np.sqrt(n_samples)))"
      ]
    },
    {
      "cell_type": "code",
      "execution_count": null,
      "metadata": {
        "colab": {
          "base_uri": "https://localhost:8080/"
        },
        "id": "YqwmdWqNnV71",
        "outputId": "aebb0dc0-8fed-45ca-ea42-6e9b9f5ad0ef"
      },
      "outputs": [
        {
          "output_type": "stream",
          "name": "stdout",
          "text": [
            "<keras.callbacks.History object at 0x7f3291f60cd0>\n",
            "dict_keys(['d1_loss', 'd2_loss', 'g_loss', 'd1_acc', 'd2_acc', 'g_acc'])\n"
          ]
        }
      ],
      "source": [
        "\n",
        "print(history)\n",
        "print(history.history.keys())"
      ]
    },
    {
      "cell_type": "code",
      "execution_count": null,
      "metadata": {
        "id": "1Oinku_dnqVW",
        "colab": {
          "base_uri": "https://localhost:8080/",
          "height": 350
        },
        "outputId": "32a89a2a-65c4-4478-9c78-a4a4eb77efad"
      },
      "outputs": [
        {
          "output_type": "display_data",
          "data": {
            "text/plain": [
              "<Figure size 720x360 with 1 Axes>"
            ],
            "image/png": "[encoded data removed]"
          },
          "metadata": {
            "needs_background": "light"
          }
        }
      ],
      "source": [
        "pyplot.figure(figsize=(10,5))\n",
        "pyplot.title(\"Generator and Discriminator Loss During Training\")\n",
        "pyplot.plot(history.history['g_loss'],label=\"G\")\n",
        "pyplot.plot(history.history['d1_loss'],label=\"D1\")\n",
        "pyplot.plot(history.history['d2_loss'],label=\"D2\")\n",
        "pyplot.xlabel(\"iterations\")\n",
        "pyplot.ylabel(\"Loss\")\n",
        "pyplot.legend()\n",
        "pyplot.show()"
      ]
    },
    {
      "cell_type": "code",
      "execution_count": null,
      "metadata": {
        "id": "WYpmcXSvnp8H"
      },
      "outputs": [],
      "source": []
    },
    {
      "cell_type": "code",
      "execution_count": null,
      "metadata": {
        "colab": {
          "base_uri": "https://localhost:8080/",
          "height": 745
        },
        "id": "J0GDmr51n0BO",
        "outputId": "a71d03ef-5d99-4628-a970-9d545f285f3f"
      },
      "outputs": [
        {
          "name": "stdout",
          "output_type": "stream",
          "text": [
            "5/5 [==============================] - 4s 320ms/step - d1_loss: 0.6734 - d2_loss: 1.1909 - g_loss: 0.6246 - d1_acc: 0.0000e+00 - d2_acc: 0.0000e+00 - g_acc: 0.0000e+00\n"
          ]
        },
        {
          "name": "stderr",
          "output_type": "stream",
          "text": [
            "WARNING:tensorflow:Compiled the loaded model, but the compiled metrics have yet to be built. `model.compile_metrics` will be empty until you train or evaluate the model.\n",
            "WARNING:tensorflow:Compiled the loaded model, but the compiled metrics have yet to be built. `model.compile_metrics` will be empty until you train or evaluate the model.\n"
          ]
        },
        {
          "name": "stdout",
          "output_type": "stream",
          "text": [
            "1/1 [==============================] - 0s 31ms/step\n",
            "5/5 [==============================] - 2s 458ms/step - d1_loss: 0.8707 - d2_loss: 1.6653 - g_loss: 0.6460 - d1_acc: 0.0000e+00 - d2_acc: 0.0000e+00 - g_acc: 0.0000e+00\n"
          ]
        },
        {
          "name": "stderr",
          "output_type": "stream",
          "text": [
            "WARNING:tensorflow:Compiled the loaded model, but the compiled metrics have yet to be built. `model.compile_metrics` will be empty until you train or evaluate the model.\n",
            "WARNING:tensorflow:Compiled the loaded model, but the compiled metrics have yet to be built. `model.compile_metrics` will be empty until you train or evaluate the model.\n"
          ]
        },
        {
          "name": "stdout",
          "output_type": "stream",
          "text": [
            "1/1 [==============================] - 0s 60ms/step\n",
            "5/5 [==============================] - 3s 521ms/step - d1_loss: 1.1406 - d2_loss: 2.0707 - g_loss: 0.5287 - d1_acc: 0.0000e+00 - d2_acc: 0.0000e+00 - g_acc: 0.0000e+00\n"
          ]
        },
        {
          "name": "stderr",
          "output_type": "stream",
          "text": [
            "WARNING:tensorflow:Compiled the loaded model, but the compiled metrics have yet to be built. `model.compile_metrics` will be empty until you train or evaluate the model.\n",
            "WARNING:tensorflow:Compiled the loaded model, but the compiled metrics have yet to be built. `model.compile_metrics` will be empty until you train or evaluate the model.\n"
          ]
        },
        {
          "name": "stdout",
          "output_type": "stream",
          "text": [
            "1/1 [==============================] - 0s 33ms/step\n",
            "5/5 [==============================] - 1s 289ms/step - d1_loss: 1.0941 - d2_loss: 1.4533 - g_loss: 0.5679 - d1_acc: 0.0000e+00 - d2_acc: 0.0000e+00 - g_acc: 0.0000e+00\n"
          ]
        },
        {
          "name": "stderr",
          "output_type": "stream",
          "text": [
            "WARNING:tensorflow:Compiled the loaded model, but the compiled metrics have yet to be built. `model.compile_metrics` will be empty until you train or evaluate the model.\n",
            "WARNING:tensorflow:Compiled the loaded model, but the compiled metrics have yet to be built. `model.compile_metrics` will be empty until you train or evaluate the model.\n"
          ]
        },
        {
          "name": "stdout",
          "output_type": "stream",
          "text": [
            "1/1 [==============================] - 0s 33ms/step\n",
            "5/5 [==============================] - 1s 292ms/step - d1_loss: 0.8081 - d2_loss: 1.3405 - g_loss: 0.6651 - d1_acc: 0.0000e+00 - d2_acc: 0.0000e+00 - g_acc: 0.0000e+00\n"
          ]
        },
        {
          "name": "stderr",
          "output_type": "stream",
          "text": [
            "WARNING:tensorflow:Compiled the loaded model, but the compiled metrics have yet to be built. `model.compile_metrics` will be empty until you train or evaluate the model.\n",
            "WARNING:tensorflow:Compiled the loaded model, but the compiled metrics have yet to be built. `model.compile_metrics` will be empty until you train or evaluate the model.\n"
          ]
        },
        {
          "name": "stdout",
          "output_type": "stream",
          "text": [
            "1/1 [==============================] - 0s 29ms/step\n",
            "4/5 [=======================>......] - ETA: 0s - d1_loss: 0.7124 - d2_loss: 1.2437 - g_loss: 0.8087 - d1_acc: 0.0000e+00 - d2_acc: 0.0000e+00 - g_acc: 0.0000e+00"
          ]
        },
        {
          "ename": "KeyboardInterrupt",
          "evalue": "ignored",
          "output_type": "error",
          "traceback": [
            "\u001b[0;31m---------------------------------------------------------------------------\u001b[0m",
            "\u001b[0;31mKeyboardInterrupt\u001b[0m                         Traceback (most recent call last)",
            "\u001b[0;32m<ipython-input-66-13dd7c56a756>\u001b[0m in \u001b[0;36m<module>\u001b[0;34m\u001b[0m\n\u001b[1;32m      2\u001b[0m \u001b[0;31m#model fitting\u001b[0m\u001b[0;34m\u001b[0m\u001b[0;34m\u001b[0m\u001b[0;34m\u001b[0m\u001b[0m\n\u001b[1;32m      3\u001b[0m \u001b[0;32mfor\u001b[0m \u001b[0mepoch\u001b[0m \u001b[0;32min\u001b[0m \u001b[0mrange\u001b[0m\u001b[0;34m(\u001b[0m\u001b[0mnum_epochs\u001b[0m\u001b[0;34m)\u001b[0m\u001b[0;34m:\u001b[0m\u001b[0;34m\u001b[0m\u001b[0;34m\u001b[0m\u001b[0m\n\u001b[0;32m----> 4\u001b[0;31m   \u001b[0mgan\u001b[0m\u001b[0;34m.\u001b[0m\u001b[0mfit\u001b[0m\u001b[0;34m(\u001b[0m\u001b[0mimages_dataset\u001b[0m\u001b[0;34m,\u001b[0m \u001b[0mepochs\u001b[0m \u001b[0;34m=\u001b[0m \u001b[0;36m1\u001b[0m\u001b[0;34m)\u001b[0m\u001b[0;34m\u001b[0m\u001b[0;34m\u001b[0m\u001b[0m\n\u001b[0m\u001b[1;32m      5\u001b[0m   \u001b[0mg_model\u001b[0m\u001b[0;34m.\u001b[0m\u001b[0msave\u001b[0m\u001b[0;34m(\u001b[0m\u001b[0;34m\"Saved Model/g_model.h5\"\u001b[0m\u001b[0;34m)\u001b[0m\u001b[0;34m\u001b[0m\u001b[0;34m\u001b[0m\u001b[0m\n\u001b[1;32m      6\u001b[0m   \u001b[0md_model\u001b[0m\u001b[0;34m.\u001b[0m\u001b[0msave\u001b[0m\u001b[0;34m(\u001b[0m\u001b[0;34m\"Saved Model/d_model.h5\"\u001b[0m\u001b[0;34m)\u001b[0m\u001b[0;34m\u001b[0m\u001b[0;34m\u001b[0m\u001b[0m\n",
            "\u001b[0;32m/usr/local/lib/python3.7/dist-packages/keras/utils/traceback_utils.py\u001b[0m in \u001b[0;36merror_handler\u001b[0;34m(*args, **kwargs)\u001b[0m\n\u001b[1;32m     62\u001b[0m     \u001b[0mfiltered_tb\u001b[0m \u001b[0;34m=\u001b[0m \u001b[0;32mNone\u001b[0m\u001b[0;34m\u001b[0m\u001b[0;34m\u001b[0m\u001b[0m\n\u001b[1;32m     63\u001b[0m     \u001b[0;32mtry\u001b[0m\u001b[0;34m:\u001b[0m\u001b[0;34m\u001b[0m\u001b[0;34m\u001b[0m\u001b[0m\n\u001b[0;32m---> 64\u001b[0;31m       \u001b[0;32mreturn\u001b[0m \u001b[0mfn\u001b[0m\u001b[0;34m(\u001b[0m\u001b[0;34m*\u001b[0m\u001b[0margs\u001b[0m\u001b[0;34m,\u001b[0m \u001b[0;34m**\u001b[0m\u001b[0mkwargs\u001b[0m\u001b[0;34m)\u001b[0m\u001b[0;34m\u001b[0m\u001b[0;34m\u001b[0m\u001b[0m\n\u001b[0m\u001b[1;32m     65\u001b[0m     \u001b[0;32mexcept\u001b[0m \u001b[0mException\u001b[0m \u001b[0;32mas\u001b[0m \u001b[0me\u001b[0m\u001b[0;34m:\u001b[0m  \u001b[0;31m# pylint: disable=broad-except\u001b[0m\u001b[0;34m\u001b[0m\u001b[0;34m\u001b[0m\u001b[0m\n\u001b[1;32m     66\u001b[0m       \u001b[0mfiltered_tb\u001b[0m \u001b[0;34m=\u001b[0m \u001b[0m_process_traceback_frames\u001b[0m\u001b[0;34m(\u001b[0m\u001b[0me\u001b[0m\u001b[0;34m.\u001b[0m\u001b[0m__traceback__\u001b[0m\u001b[0;34m)\u001b[0m\u001b[0;34m\u001b[0m\u001b[0;34m\u001b[0m\u001b[0m\n",
            "\u001b[0;32m/usr/local/lib/python3.7/dist-packages/keras/engine/training.py\u001b[0m in \u001b[0;36mfit\u001b[0;34m(self, x, y, batch_size, epochs, verbose, callbacks, validation_split, validation_data, shuffle, class_weight, sample_weight, initial_epoch, steps_per_epoch, validation_steps, validation_batch_size, validation_freq, max_queue_size, workers, use_multiprocessing)\u001b[0m\n\u001b[1;32m   1407\u001b[0m                 _r=1):\n\u001b[1;32m   1408\u001b[0m               \u001b[0mcallbacks\u001b[0m\u001b[0;34m.\u001b[0m\u001b[0mon_train_batch_begin\u001b[0m\u001b[0;34m(\u001b[0m\u001b[0mstep\u001b[0m\u001b[0;34m)\u001b[0m\u001b[0;34m\u001b[0m\u001b[0;34m\u001b[0m\u001b[0m\n\u001b[0;32m-> 1409\u001b[0;31m               \u001b[0mtmp_logs\u001b[0m \u001b[0;34m=\u001b[0m \u001b[0mself\u001b[0m\u001b[0;34m.\u001b[0m\u001b[0mtrain_function\u001b[0m\u001b[0;34m(\u001b[0m\u001b[0miterator\u001b[0m\u001b[0;34m)\u001b[0m\u001b[0;34m\u001b[0m\u001b[0;34m\u001b[0m\u001b[0m\n\u001b[0m\u001b[1;32m   1410\u001b[0m               \u001b[0;32mif\u001b[0m \u001b[0mdata_handler\u001b[0m\u001b[0;34m.\u001b[0m\u001b[0mshould_sync\u001b[0m\u001b[0;34m:\u001b[0m\u001b[0;34m\u001b[0m\u001b[0;34m\u001b[0m\u001b[0m\n\u001b[1;32m   1411\u001b[0m                 \u001b[0mcontext\u001b[0m\u001b[0;34m.\u001b[0m\u001b[0masync_wait\u001b[0m\u001b[0;34m(\u001b[0m\u001b[0;34m)\u001b[0m\u001b[0;34m\u001b[0m\u001b[0;34m\u001b[0m\u001b[0m\n",
            "\u001b[0;32m/usr/local/lib/python3.7/dist-packages/tensorflow/python/util/traceback_utils.py\u001b[0m in \u001b[0;36merror_handler\u001b[0;34m(*args, **kwargs)\u001b[0m\n\u001b[1;32m    148\u001b[0m     \u001b[0mfiltered_tb\u001b[0m \u001b[0;34m=\u001b[0m \u001b[0;32mNone\u001b[0m\u001b[0;34m\u001b[0m\u001b[0;34m\u001b[0m\u001b[0m\n\u001b[1;32m    149\u001b[0m     \u001b[0;32mtry\u001b[0m\u001b[0;34m:\u001b[0m\u001b[0;34m\u001b[0m\u001b[0;34m\u001b[0m\u001b[0m\n\u001b[0;32m--> 150\u001b[0;31m       \u001b[0;32mreturn\u001b[0m \u001b[0mfn\u001b[0m\u001b[0;34m(\u001b[0m\u001b[0;34m*\u001b[0m\u001b[0margs\u001b[0m\u001b[0;34m,\u001b[0m \u001b[0;34m**\u001b[0m\u001b[0mkwargs\u001b[0m\u001b[0;34m)\u001b[0m\u001b[0;34m\u001b[0m\u001b[0;34m\u001b[0m\u001b[0m\n\u001b[0m\u001b[1;32m    151\u001b[0m     \u001b[0;32mexcept\u001b[0m \u001b[0mException\u001b[0m \u001b[0;32mas\u001b[0m \u001b[0me\u001b[0m\u001b[0;34m:\u001b[0m\u001b[0;34m\u001b[0m\u001b[0;34m\u001b[0m\u001b[0m\n\u001b[1;32m    152\u001b[0m       \u001b[0mfiltered_tb\u001b[0m \u001b[0;34m=\u001b[0m \u001b[0m_process_traceback_frames\u001b[0m\u001b[0;34m(\u001b[0m\u001b[0me\u001b[0m\u001b[0;34m.\u001b[0m\u001b[0m__traceback__\u001b[0m\u001b[0;34m)\u001b[0m\u001b[0;34m\u001b[0m\u001b[0;34m\u001b[0m\u001b[0m\n",
            "\u001b[0;32m/usr/local/lib/python3.7/dist-packages/tensorflow/python/eager/def_function.py\u001b[0m in \u001b[0;36m__call__\u001b[0;34m(self, *args, **kwds)\u001b[0m\n\u001b[1;32m    913\u001b[0m \u001b[0;34m\u001b[0m\u001b[0m\n\u001b[1;32m    914\u001b[0m       \u001b[0;32mwith\u001b[0m \u001b[0mOptionalXlaContext\u001b[0m\u001b[0;34m(\u001b[0m\u001b[0mself\u001b[0m\u001b[0;34m.\u001b[0m\u001b[0m_jit_compile\u001b[0m\u001b[0;34m)\u001b[0m\u001b[0;34m:\u001b[0m\u001b[0;34m\u001b[0m\u001b[0;34m\u001b[0m\u001b[0m\n\u001b[0;32m--> 915\u001b[0;31m         \u001b[0mresult\u001b[0m \u001b[0;34m=\u001b[0m \u001b[0mself\u001b[0m\u001b[0;34m.\u001b[0m\u001b[0m_call\u001b[0m\u001b[0;34m(\u001b[0m\u001b[0;34m*\u001b[0m\u001b[0margs\u001b[0m\u001b[0;34m,\u001b[0m \u001b[0;34m**\u001b[0m\u001b[0mkwds\u001b[0m\u001b[0;34m)\u001b[0m\u001b[0;34m\u001b[0m\u001b[0;34m\u001b[0m\u001b[0m\n\u001b[0m\u001b[1;32m    916\u001b[0m \u001b[0;34m\u001b[0m\u001b[0m\n\u001b[1;32m    917\u001b[0m       \u001b[0mnew_tracing_count\u001b[0m \u001b[0;34m=\u001b[0m \u001b[0mself\u001b[0m\u001b[0;34m.\u001b[0m\u001b[0mexperimental_get_tracing_count\u001b[0m\u001b[0;34m(\u001b[0m\u001b[0;34m)\u001b[0m\u001b[0;34m\u001b[0m\u001b[0;34m\u001b[0m\u001b[0m\n",
            "\u001b[0;32m/usr/local/lib/python3.7/dist-packages/tensorflow/python/eager/def_function.py\u001b[0m in \u001b[0;36m_call\u001b[0;34m(self, *args, **kwds)\u001b[0m\n\u001b[1;32m    945\u001b[0m       \u001b[0;31m# In this case we have created variables on the first call, so we run the\u001b[0m\u001b[0;34m\u001b[0m\u001b[0;34m\u001b[0m\u001b[0;34m\u001b[0m\u001b[0m\n\u001b[1;32m    946\u001b[0m       \u001b[0;31m# defunned version which is guaranteed to never create variables.\u001b[0m\u001b[0;34m\u001b[0m\u001b[0;34m\u001b[0m\u001b[0;34m\u001b[0m\u001b[0m\n\u001b[0;32m--> 947\u001b[0;31m       \u001b[0;32mreturn\u001b[0m \u001b[0mself\u001b[0m\u001b[0;34m.\u001b[0m\u001b[0m_stateless_fn\u001b[0m\u001b[0;34m(\u001b[0m\u001b[0;34m*\u001b[0m\u001b[0margs\u001b[0m\u001b[0;34m,\u001b[0m \u001b[0;34m**\u001b[0m\u001b[0mkwds\u001b[0m\u001b[0;34m)\u001b[0m  \u001b[0;31m# pylint: disable=not-callable\u001b[0m\u001b[0;34m\u001b[0m\u001b[0;34m\u001b[0m\u001b[0m\n\u001b[0m\u001b[1;32m    948\u001b[0m     \u001b[0;32melif\u001b[0m \u001b[0mself\u001b[0m\u001b[0;34m.\u001b[0m\u001b[0m_stateful_fn\u001b[0m \u001b[0;32mis\u001b[0m \u001b[0;32mnot\u001b[0m \u001b[0;32mNone\u001b[0m\u001b[0;34m:\u001b[0m\u001b[0;34m\u001b[0m\u001b[0;34m\u001b[0m\u001b[0m\n\u001b[1;32m    949\u001b[0m       \u001b[0;31m# Release the lock early so that multiple threads can perform the call\u001b[0m\u001b[0;34m\u001b[0m\u001b[0;34m\u001b[0m\u001b[0;34m\u001b[0m\u001b[0m\n",
            "\u001b[0;32m/usr/local/lib/python3.7/dist-packages/tensorflow/python/eager/function.py\u001b[0m in \u001b[0;36m__call__\u001b[0;34m(self, *args, **kwargs)\u001b[0m\n\u001b[1;32m   2452\u001b[0m        filtered_flat_args) = self._maybe_define_function(args, kwargs)\n\u001b[1;32m   2453\u001b[0m     return graph_function._call_flat(\n\u001b[0;32m-> 2454\u001b[0;31m         filtered_flat_args, captured_inputs=graph_function.captured_inputs)  # pylint: disable=protected-access\n\u001b[0m\u001b[1;32m   2455\u001b[0m \u001b[0;34m\u001b[0m\u001b[0m\n\u001b[1;32m   2456\u001b[0m   \u001b[0;34m@\u001b[0m\u001b[0mproperty\u001b[0m\u001b[0;34m\u001b[0m\u001b[0;34m\u001b[0m\u001b[0m\n",
            "\u001b[0;32m/usr/local/lib/python3.7/dist-packages/tensorflow/python/eager/function.py\u001b[0m in \u001b[0;36m_call_flat\u001b[0;34m(self, args, captured_inputs, cancellation_manager)\u001b[0m\n\u001b[1;32m   1859\u001b[0m       \u001b[0;31m# No tape is watching; skip to running the function.\u001b[0m\u001b[0;34m\u001b[0m\u001b[0;34m\u001b[0m\u001b[0;34m\u001b[0m\u001b[0m\n\u001b[1;32m   1860\u001b[0m       return self._build_call_outputs(self._inference_function.call(\n\u001b[0;32m-> 1861\u001b[0;31m           ctx, args, cancellation_manager=cancellation_manager))\n\u001b[0m\u001b[1;32m   1862\u001b[0m     forward_backward = self._select_forward_and_backward_functions(\n\u001b[1;32m   1863\u001b[0m         \u001b[0margs\u001b[0m\u001b[0;34m,\u001b[0m\u001b[0;34m\u001b[0m\u001b[0;34m\u001b[0m\u001b[0m\n",
            "\u001b[0;32m/usr/local/lib/python3.7/dist-packages/tensorflow/python/eager/function.py\u001b[0m in \u001b[0;36mcall\u001b[0;34m(self, ctx, args, cancellation_manager)\u001b[0m\n\u001b[1;32m    500\u001b[0m               \u001b[0minputs\u001b[0m\u001b[0;34m=\u001b[0m\u001b[0margs\u001b[0m\u001b[0;34m,\u001b[0m\u001b[0;34m\u001b[0m\u001b[0;34m\u001b[0m\u001b[0m\n\u001b[1;32m    501\u001b[0m               \u001b[0mattrs\u001b[0m\u001b[0;34m=\u001b[0m\u001b[0mattrs\u001b[0m\u001b[0;34m,\u001b[0m\u001b[0;34m\u001b[0m\u001b[0;34m\u001b[0m\u001b[0m\n\u001b[0;32m--> 502\u001b[0;31m               ctx=ctx)\n\u001b[0m\u001b[1;32m    503\u001b[0m         \u001b[0;32melse\u001b[0m\u001b[0;34m:\u001b[0m\u001b[0;34m\u001b[0m\u001b[0;34m\u001b[0m\u001b[0m\n\u001b[1;32m    504\u001b[0m           outputs = execute.execute_with_cancellation(\n",
            "\u001b[0;32m/usr/local/lib/python3.7/dist-packages/tensorflow/python/eager/execute.py\u001b[0m in \u001b[0;36mquick_execute\u001b[0;34m(op_name, num_outputs, inputs, attrs, ctx, name)\u001b[0m\n\u001b[1;32m     53\u001b[0m     \u001b[0mctx\u001b[0m\u001b[0;34m.\u001b[0m\u001b[0mensure_initialized\u001b[0m\u001b[0;34m(\u001b[0m\u001b[0;34m)\u001b[0m\u001b[0;34m\u001b[0m\u001b[0;34m\u001b[0m\u001b[0m\n\u001b[1;32m     54\u001b[0m     tensors = pywrap_tfe.TFE_Py_Execute(ctx._handle, device_name, op_name,\n\u001b[0;32m---> 55\u001b[0;31m                                         inputs, attrs, num_outputs)\n\u001b[0m\u001b[1;32m     56\u001b[0m   \u001b[0;32mexcept\u001b[0m \u001b[0mcore\u001b[0m\u001b[0;34m.\u001b[0m\u001b[0m_NotOkStatusException\u001b[0m \u001b[0;32mas\u001b[0m \u001b[0me\u001b[0m\u001b[0;34m:\u001b[0m\u001b[0;34m\u001b[0m\u001b[0;34m\u001b[0m\u001b[0m\n\u001b[1;32m     57\u001b[0m     \u001b[0;32mif\u001b[0m \u001b[0mname\u001b[0m \u001b[0;32mis\u001b[0m \u001b[0;32mnot\u001b[0m \u001b[0;32mNone\u001b[0m\u001b[0;34m:\u001b[0m\u001b[0;34m\u001b[0m\u001b[0;34m\u001b[0m\u001b[0m\n",
            "\u001b[0;31mKeyboardInterrupt\u001b[0m: "
          ]
        }
      ],
      "source": [
        "images_dataset = tf_dataset(images_path, batch_size)\n",
        "#model fitting\n",
        "for epoch in range(num_epochs):\n",
        "  gan.fit(images_dataset, epochs = 1)\n",
        "  g_model.save(\"Saved Model/g_model.h5\")\n",
        "  d_model.save(\"Saved Model/d_model.h5\")\n",
        "\n",
        "  n_samples = 1\n",
        "  noise = np.random.normal(size=(n_samples, latent_dim))\n",
        "  examples = g_model.predict(noise)\n",
        "  save_plot(examples, epoch, int(np.sqrt(n_samples)))\n",
        "\n"
      ]
    },
    {
      "cell_type": "code",
      "execution_count": null,
      "metadata": {
        "colab": {
          "base_uri": "https://localhost:8080/"
        },
        "id": "4zLixmKIU27M",
        "outputId": "05cda759-e178-4eb0-e337-092b4df591a2"
      },
      "outputs": [
        {
          "name": "stderr",
          "output_type": "stream",
          "text": [
            "WARNING:tensorflow:Compiled the loaded model, but the compiled metrics have yet to be built. `model.compile_metrics` will be empty until you train or evaluate the model.\n",
            "WARNING:tensorflow:Compiled the loaded model, but the compiled metrics have yet to be built. `model.compile_metrics` will be empty until you train or evaluate the model.\n"
          ]
        }
      ],
      "source": [
        "g_model.save(\"Saved Model/g_model.h5\")\n",
        "d_model.save(\"Saved Model/d_model.h5\")\n"
      ]
    },
    {
      "cell_type": "code",
      "execution_count": null,
      "metadata": {
        "colab": {
          "base_uri": "https://localhost:8080/"
        },
        "id": "L868fvDMtFlv",
        "outputId": "98c7cca3-584b-4dc2-9850-666f2ecdd9e2"
      },
      "outputs": [
        {
          "name": "stderr",
          "output_type": "stream",
          "text": [
            "WARNING:tensorflow:No training configuration found in the save file, so the model was *not* compiled. Compile it manually.\n"
          ]
        },
        {
          "name": "stdout",
          "output_type": "stream",
          "text": [
            "1/1 [==============================] - 0s 162ms/step\n"
          ]
        }
      ],
      "source": [
        "\n",
        "import numpy as np\n",
        "import cv2\n",
        "from tensorflow.keras.models import load_model\n",
        "from matplotlib import pyplot\n",
        "\n",
        "def save_plot(examples, n):\n",
        "    examples = (examples + 1) / 2.0\n",
        "    for i in range(n * n):\n",
        "        pyplot.subplot(n, n, i+1)\n",
        "        pyplot.axis(\"off\")\n",
        "        pyplot.imshow(examples[i])\n",
        "    filename = \"fakeimage.eps\"\n",
        "    pyplot.savefig(filename, format='eps')\n",
        "    pyplot.close()\n",
        "\n",
        "if __name__ == \"__main__\":\n",
        "    model = load_model(\"/content/Saved Model/g_model.h5\")\n",
        "\n",
        "    n_samples = 1    ## n should always be a square of an integer.\n",
        "    latent_dim = 4\n",
        "    latent_points = np.random.normal(size=(n_samples, latent_dim))\n",
        "    examples = model.predict(latent_points)\n",
        "    save_plot(examples, int(np.sqrt(n_samples)))"
      ]
    },
    {
      "cell_type": "code",
      "source": [
        "# example of calculating the frechet inception distance in Keras\n",
        "import numpy\n",
        "from numpy import cov\n",
        "from numpy import trace\n",
        "from numpy import iscomplexobj\n",
        "from numpy import asarray\n",
        "from numpy.random import randint\n",
        "from scipy.linalg import sqrtm\n",
        "from keras.applications.inception_v3 import InceptionV3\n",
        "from keras.applications.inception_v3 import preprocess_input\n",
        "from keras.datasets.mnist import load_data\n",
        "from skimage.transform import resize\n",
        "\n",
        "fake_image_path = glob(\"/content/drive/MyDrive/sample_images_drive/*\") \n",
        "# scale an array of images to a new size\n",
        "def scale_images(fake_image_path, new_shape):\n",
        "\timages_list = list()\n",
        "\tfor image in fake_image_path:\n",
        "\t\t# resize with nearest neighbor interpolation\n",
        "\t\tnew_image = resize(image, new_shape, 0)\n",
        "\t\t# store\n",
        "\t\timages_list.append(new_image)\n",
        "\treturn asarray(images_list)\n",
        " \n",
        "# calculate frechet inception distance\n",
        "def calculate_fid(model, images1, images2):\n",
        "\t# calculate activations\n",
        "\tact1 = model.predict(images1)\n",
        "\tact2 = model.predict(images2)\n",
        "\t# calculate mean and covariance statistics\n",
        "\tmu1, sigma1 = act1.mean(axis=0), cov(act1, rowvar=False)\n",
        "\tmu2, sigma2 = act2.mean(axis=0), cov(act2, rowvar=False)\n",
        "\t# calculate sum squared difference between means\n",
        "\tssdiff = numpy.sum((mu1 - mu2)**2.0)\n",
        "\t# calculate sqrt of product between cov\n",
        "\tcovmean = sqrtm(sigma1.dot(sigma2))\n",
        "\t# check and correct imaginary numbers from sqrt\n",
        "\tif iscomplexobj(covmean):\n",
        "\t\tcovmean = covmean.real\n",
        "\t# calculate score\n",
        "\tfid = ssdiff + trace(sigma1 + sigma2 - 2.0 * covmean)\n",
        "\treturn fid"
      ],
      "metadata": {
        "id": "EWHJXHKZhLM8"
      },
      "execution_count": null,
      "outputs": []
    },
    {
      "cell_type": "code",
      "source": [
        "from pyparsing import Each\n",
        "# prepare the inception v3 model\n",
        "fid_same = []\n",
        "fid_diff = []\n",
        "num_of_iterations = [5,10,15]\n",
        "for each in num_of_iterations :\n",
        "  \n",
        "  gan.fit(images_dataset, epochs = each)\n",
        "  g_model.save(\"Saved Model/g_model.h5\")\n",
        "  d_model.save(\"Saved Model/d_model.h5\")\n",
        "  for epoch in range(each) :\n",
        "    n_samples = 1\n",
        "    noise = np.random.normal(size=(n_samples, latent_dim))\n",
        "    examples = g_model.predict(noise)\n",
        "    save_plot(examples, epoch, int(np.sqrt(n_samples)))\n",
        "\n",
        "  model = InceptionV3(include_top=False, pooling='avg', input_shape=(299,299,3))\n",
        "  # define two fake collections of images\n",
        "  images1 = randint(0, 255, 10*32*32*3)\n",
        "  images1 = images1.reshape((10,32,32,3))\n",
        "  images2 = randint(0, 255, 10*32*32*3)\n",
        "  images2 = images2.reshape((10,32,32,3))\n",
        "  print('Prepared', images1.shape, images2.shape)\n",
        "  # convert integer to floating point values\n",
        "  images1 = images1.astype('float32')\n",
        "  images2 = images2.astype('float32')\n",
        "  # resize images\n",
        "  images1 = scale_images(images1, (299,299,3))\n",
        "  images2 = scale_images(images2, (299,299,3))\n",
        "  print('Scaled', images1.shape, images2.shape)\n",
        "  # pre-process images\n",
        "  images1 = preprocess_input(images1)\n",
        "  images2 = preprocess_input(images2)\n",
        "  # fid between images1 and images1\n",
        "  fid_same.append(calculate_fid(model, images1, images1))\n",
        "  print('FID (same):', fid_same)\n",
        "  # fid between images1 and images2\n",
        "  fid_diff.append(calculate_fid(model, images1, images2))\n",
        "  print('FID (different):', fid_diff)"
      ],
      "metadata": {
        "colab": {
          "base_uri": "https://localhost:8080/"
        },
        "id": "yQVbCUhbhTnc",
        "outputId": "ccc7ba63-daf4-4aaf-fd41-56fbbef79e60"
      },
      "execution_count": null,
      "outputs": [
        {
          "output_type": "stream",
          "name": "stdout",
          "text": [
            "Epoch 1/5\n",
            "5/5 [==============================] - 2s 435ms/step - d1_loss: 0.3346 - d2_loss: 0.3142 - g_loss: 1.6025 - d1_acc: 0.0000e+00 - d2_acc: 0.0000e+00 - g_acc: 0.0000e+00\n",
            "Epoch 2/5\n",
            "5/5 [==============================] - 2s 432ms/step - d1_loss: 0.4253 - d2_loss: 0.3619 - g_loss: 1.6169 - d1_acc: 0.0000e+00 - d2_acc: 0.0000e+00 - g_acc: 0.0000e+00\n",
            "Epoch 3/5\n",
            "5/5 [==============================] - 2s 435ms/step - d1_loss: 0.3138 - d2_loss: 0.3391 - g_loss: 1.4538 - d1_acc: 0.0000e+00 - d2_acc: 0.0000e+00 - g_acc: 0.0000e+00\n",
            "Epoch 4/5\n",
            "5/5 [==============================] - 2s 431ms/step - d1_loss: 0.3917 - d2_loss: 0.3938 - g_loss: 1.3625 - d1_acc: 0.0000e+00 - d2_acc: 0.0000e+00 - g_acc: 0.0000e+00\n",
            "Epoch 5/5\n",
            "5/5 [==============================] - 2s 440ms/step - d1_loss: 0.3894 - d2_loss: 0.4058 - g_loss: 1.3278 - d1_acc: 0.0000e+00 - d2_acc: 0.0000e+00 - g_acc: 0.0000e+00\n"
          ]
        },
        {
          "output_type": "stream",
          "name": "stderr",
          "text": [
            "WARNING:tensorflow:Compiled the loaded model, but the compiled metrics have yet to be built. `model.compile_metrics` will be empty until you train or evaluate the model.\n",
            "WARNING:tensorflow:Compiled the loaded model, but the compiled metrics have yet to be built. `model.compile_metrics` will be empty until you train or evaluate the model.\n"
          ]
        },
        {
          "output_type": "stream",
          "name": "stdout",
          "text": [
            "1/1 [==============================] - 0s 40ms/step\n",
            "1/1 [==============================] - 0s 40ms/step\n",
            "1/1 [==============================] - 0s 39ms/step\n",
            "1/1 [==============================] - 0s 40ms/step\n",
            "1/1 [==============================] - 0s 40ms/step\n",
            "Prepared (10, 32, 32, 3) (10, 32, 32, 3)\n",
            "Scaled (10, 299, 299, 3) (10, 299, 299, 3)\n",
            "1/1 [==============================] - 4s 4s/step\n",
            "1/1 [==============================] - 2s 2s/step\n",
            "FID (same): [-2.2849644154288375e-05]\n",
            "1/1 [==============================] - 2s 2s/step\n",
            "1/1 [==============================] - 2s 2s/step\n",
            "FID (different): [42.51583625236779]\n",
            "Epoch 1/10\n",
            "5/5 [==============================] - 2s 403ms/step - d1_loss: 0.5435 - d2_loss: 0.4834 - g_loss: 1.2197 - d1_acc: 0.0000e+00 - d2_acc: 0.0000e+00 - g_acc: 0.0000e+00\n",
            "Epoch 2/10\n",
            "5/5 [==============================] - 2s 398ms/step - d1_loss: 0.3299 - d2_loss: 0.4121 - g_loss: 1.3209 - d1_acc: 0.0000e+00 - d2_acc: 0.0000e+00 - g_acc: 0.0000e+00\n",
            "Epoch 3/10\n",
            "5/5 [==============================] - 2s 410ms/step - d1_loss: 0.3434 - d2_loss: 0.4050 - g_loss: 1.4201 - d1_acc: 0.0000e+00 - d2_acc: 0.0000e+00 - g_acc: 0.0000e+00\n",
            "Epoch 4/10\n",
            "5/5 [==============================] - 2s 416ms/step - d1_loss: 0.3897 - d2_loss: 0.4389 - g_loss: 1.4227 - d1_acc: 0.0000e+00 - d2_acc: 0.0000e+00 - g_acc: 0.0000e+00\n",
            "Epoch 5/10\n",
            "5/5 [==============================] - 2s 399ms/step - d1_loss: 0.4478 - d2_loss: 0.5478 - g_loss: 1.3065 - d1_acc: 0.0000e+00 - d2_acc: 0.0000e+00 - g_acc: 0.0000e+00\n",
            "Epoch 6/10\n",
            "5/5 [==============================] - 2s 400ms/step - d1_loss: 0.4361 - d2_loss: 0.5066 - g_loss: 1.1718 - d1_acc: 0.0000e+00 - d2_acc: 0.0000e+00 - g_acc: 0.0000e+00\n",
            "Epoch 7/10\n",
            "5/5 [==============================] - 2s 394ms/step - d1_loss: 0.4449 - d2_loss: 0.5743 - g_loss: 1.0571 - d1_acc: 0.0000e+00 - d2_acc: 0.0000e+00 - g_acc: 0.0000e+00\n",
            "Epoch 8/10\n",
            "5/5 [==============================] - 2s 393ms/step - d1_loss: 0.5124 - d2_loss: 0.6099 - g_loss: 1.0578 - d1_acc: 0.0000e+00 - d2_acc: 0.0000e+00 - g_acc: 0.0000e+00\n",
            "Epoch 9/10\n",
            "5/5 [==============================] - 2s 413ms/step - d1_loss: 0.4812 - d2_loss: 0.5706 - g_loss: 1.0465 - d1_acc: 0.0000e+00 - d2_acc: 0.0000e+00 - g_acc: 0.0000e+00\n",
            "Epoch 10/10\n",
            "5/5 [==============================] - 2s 407ms/step - d1_loss: 0.4551 - d2_loss: 0.5612 - g_loss: 1.0193 - d1_acc: 0.0000e+00 - d2_acc: 0.0000e+00 - g_acc: 0.0000e+00\n"
          ]
        },
        {
          "output_type": "stream",
          "name": "stderr",
          "text": [
            "WARNING:tensorflow:Compiled the loaded model, but the compiled metrics have yet to be built. `model.compile_metrics` will be empty until you train or evaluate the model.\n",
            "WARNING:tensorflow:Compiled the loaded model, but the compiled metrics have yet to be built. `model.compile_metrics` will be empty until you train or evaluate the model.\n"
          ]
        },
        {
          "output_type": "stream",
          "name": "stdout",
          "text": [
            "1/1 [==============================] - 0s 39ms/step\n",
            "1/1 [==============================] - 0s 40ms/step\n",
            "1/1 [==============================] - 0s 38ms/step\n",
            "1/1 [==============================] - 0s 42ms/step\n",
            "1/1 [==============================] - 0s 39ms/step\n",
            "1/1 [==============================] - 0s 39ms/step\n",
            "1/1 [==============================] - 0s 39ms/step\n",
            "1/1 [==============================] - 0s 113ms/step\n",
            "1/1 [==============================] - 0s 150ms/step\n",
            "1/1 [==============================] - 0s 83ms/step\n",
            "Prepared (10, 32, 32, 3) (10, 32, 32, 3)\n",
            "Scaled (10, 299, 299, 3) (10, 299, 299, 3)\n",
            "1/1 [==============================] - 3s 3s/step\n",
            "1/1 [==============================] - 2s 2s/step\n",
            "FID (same): [-2.2849644154288375e-05, -2.8657292987432977e-05]\n",
            "1/1 [==============================] - 2s 2s/step\n",
            "1/1 [==============================] - 3s 3s/step\n",
            "FID (different): [42.51583625236779, 43.150280014234056]\n",
            "Epoch 1/15\n",
            "5/5 [==============================] - 2s 418ms/step - d1_loss: 0.4252 - d2_loss: 0.5357 - g_loss: 1.1728 - d1_acc: 0.0000e+00 - d2_acc: 0.0000e+00 - g_acc: 0.0000e+00\n",
            "Epoch 2/15\n",
            "5/5 [==============================] - 2s 419ms/step - d1_loss: 0.4789 - d2_loss: 0.5746 - g_loss: 1.1875 - d1_acc: 0.0000e+00 - d2_acc: 0.0000e+00 - g_acc: 0.0000e+00\n",
            "Epoch 3/15\n",
            "5/5 [==============================] - 2s 417ms/step - d1_loss: 0.4413 - d2_loss: 0.5850 - g_loss: 1.1671 - d1_acc: 0.0000e+00 - d2_acc: 0.0000e+00 - g_acc: 0.0000e+00\n",
            "Epoch 4/15\n",
            "5/5 [==============================] - 2s 425ms/step - d1_loss: 0.5090 - d2_loss: 0.6166 - g_loss: 1.1283 - d1_acc: 0.0000e+00 - d2_acc: 0.0000e+00 - g_acc: 0.0000e+00\n",
            "Epoch 5/15\n",
            "5/5 [==============================] - 2s 420ms/step - d1_loss: 0.5663 - d2_loss: 0.6445 - g_loss: 1.0883 - d1_acc: 0.0000e+00 - d2_acc: 0.0000e+00 - g_acc: 0.0000e+00\n",
            "Epoch 6/15\n",
            "5/5 [==============================] - 2s 454ms/step - d1_loss: 0.5708 - d2_loss: 0.6400 - g_loss: 1.0229 - d1_acc: 0.0000e+00 - d2_acc: 0.0000e+00 - g_acc: 0.0000e+00\n",
            "Epoch 7/15\n",
            "5/5 [==============================] - 2s 430ms/step - d1_loss: 0.5553 - d2_loss: 0.6358 - g_loss: 0.9472 - d1_acc: 0.0000e+00 - d2_acc: 0.0000e+00 - g_acc: 0.0000e+00\n",
            "Epoch 8/15\n",
            "5/5 [==============================] - 2s 410ms/step - d1_loss: 0.5366 - d2_loss: 0.6316 - g_loss: 0.9157 - d1_acc: 0.0000e+00 - d2_acc: 0.0000e+00 - g_acc: 0.0000e+00\n",
            "Epoch 9/15\n",
            "5/5 [==============================] - 2s 435ms/step - d1_loss: 0.5834 - d2_loss: 0.6093 - g_loss: 0.9541 - d1_acc: 0.0000e+00 - d2_acc: 0.0000e+00 - g_acc: 0.0000e+00\n",
            "Epoch 10/15\n",
            "5/5 [==============================] - 2s 455ms/step - d1_loss: 0.4277 - d2_loss: 0.5788 - g_loss: 1.1736 - d1_acc: 0.0000e+00 - d2_acc: 0.0000e+00 - g_acc: 0.0000e+00\n",
            "Epoch 11/15\n",
            "5/5 [==============================] - 2s 451ms/step - d1_loss: 0.4661 - d2_loss: 0.6096 - g_loss: 1.0964 - d1_acc: 0.0000e+00 - d2_acc: 0.0000e+00 - g_acc: 0.0000e+00\n",
            "Epoch 12/15\n",
            "5/5 [==============================] - 2s 457ms/step - d1_loss: 0.4594 - d2_loss: 0.5704 - g_loss: 1.0811 - d1_acc: 0.0000e+00 - d2_acc: 0.0000e+00 - g_acc: 0.0000e+00\n",
            "Epoch 13/15\n",
            "5/5 [==============================] - 2s 454ms/step - d1_loss: 0.4960 - d2_loss: 0.6170 - g_loss: 1.1739 - d1_acc: 0.0000e+00 - d2_acc: 0.0000e+00 - g_acc: 0.0000e+00\n",
            "Epoch 14/15\n",
            "5/5 [==============================] - 2s 462ms/step - d1_loss: 0.5134 - d2_loss: 0.5712 - g_loss: 1.0527 - d1_acc: 0.0000e+00 - d2_acc: 0.0000e+00 - g_acc: 0.0000e+00\n",
            "Epoch 15/15\n",
            "5/5 [==============================] - 2s 465ms/step - d1_loss: 0.4998 - d2_loss: 0.6014 - g_loss: 0.9849 - d1_acc: 0.0000e+00 - d2_acc: 0.0000e+00 - g_acc: 0.0000e+00\n"
          ]
        },
        {
          "output_type": "stream",
          "name": "stderr",
          "text": [
            "WARNING:tensorflow:Compiled the loaded model, but the compiled metrics have yet to be built. `model.compile_metrics` will be empty until you train or evaluate the model.\n",
            "WARNING:tensorflow:Compiled the loaded model, but the compiled metrics have yet to be built. `model.compile_metrics` will be empty until you train or evaluate the model.\n"
          ]
        },
        {
          "output_type": "stream",
          "name": "stdout",
          "text": [
            "1/1 [==============================] - 0s 48ms/step\n",
            "1/1 [==============================] - 0s 43ms/step\n",
            "1/1 [==============================] - 0s 54ms/step\n",
            "1/1 [==============================] - 0s 44ms/step\n",
            "1/1 [==============================] - 0s 46ms/step\n",
            "1/1 [==============================] - 0s 46ms/step\n",
            "1/1 [==============================] - 0s 44ms/step\n",
            "1/1 [==============================] - 0s 44ms/step\n",
            "1/1 [==============================] - 0s 45ms/step\n",
            "1/1 [==============================] - 0s 46ms/step\n",
            "1/1 [==============================] - 0s 46ms/step\n",
            "1/1 [==============================] - 0s 47ms/step\n",
            "1/1 [==============================] - 0s 46ms/step\n",
            "1/1 [==============================] - 0s 45ms/step\n",
            "1/1 [==============================] - 0s 44ms/step\n",
            "Prepared (10, 32, 32, 3) (10, 32, 32, 3)\n",
            "Scaled (10, 299, 299, 3) (10, 299, 299, 3)\n",
            "1/1 [==============================] - 3s 3s/step\n",
            "1/1 [==============================] - 2s 2s/step\n",
            "FID (same): [-2.2849644154288375e-05, -2.8657292987432977e-05, -3.398382927683108e-05]\n",
            "1/1 [==============================] - 2s 2s/step\n",
            "1/1 [==============================] - 2s 2s/step\n",
            "FID (different): [42.51583625236779, 43.150280014234056, 44.81987750682479]\n"
          ]
        }
      ]
    },
    {
      "cell_type": "code",
      "source": [
        "pyplot.figure(figsize=(10,5))\n",
        "pyplot.title(\"FID \")\n",
        "pyplot.plot(fid_diff,label=\"FID_DIFF\")\n",
        "pyplot.xlabel(\"iterations\")\n",
        "pyplot.ylabel(\"FID\")\n",
        "pyplot.legend()\n",
        "pyplot.show()"
      ],
      "metadata": {
        "colab": {
          "base_uri": "https://localhost:8080/",
          "height": 350
        },
        "id": "-mBzmuUZlo6z",
        "outputId": "618a60a6-cd88-4a97-a0d2-cec2e237069c"
      },
      "execution_count": null,
      "outputs": [
        {
          "output_type": "display_data",
          "data": {
            "text/plain": [
              "<Figure size 720x360 with 1 Axes>"
            ],
            "image/png": "[encoded data removed]"
          },
          "metadata": {
            "needs_background": "light"
          }
        }
      ]
    },
    {
      "cell_type": "code",
      "source": [],
      "metadata": {
        "id": "BpOnfIytnSU-"
      },
      "execution_count": null,
      "outputs": []
    },
    {
      "cell_type": "code",
      "execution_count": null,
      "metadata": {
        "colab": {
          "base_uri": "https://localhost:8080/"
        },
        "id": "iB6LbrXwSyer",
        "outputId": "b60035d8-5e42-4dc5-caa1-4394c804ddd5"
      },
      "outputs": [
        {
          "name": "stdout",
          "output_type": "stream",
          "text": [
            "Prepared (10, 32, 32, 3) (10, 32, 32, 3)\n",
            "Scaled (10, 299, 299, 3) (10, 299, 299, 3)\n",
            "1/1 [==============================] - 3s 3s/step\n",
            "1/1 [==============================] - 1s 1s/step\n",
            "FID (same): -0.000\n",
            "1/1 [==============================] - 2s 2s/step\n",
            "1/1 [==============================] - 2s 2s/step\n",
            "FID (different): 37.938\n"
          ]
        }
      ],
      "source": [
        "# example of calculating the frechet inception distance in Keras\n",
        "import numpy\n",
        "from numpy import cov\n",
        "from numpy import trace\n",
        "from numpy import iscomplexobj\n",
        "from numpy import asarray\n",
        "from numpy.random import randint\n",
        "from scipy.linalg import sqrtm\n",
        "from keras.applications.inception_v3 import InceptionV3\n",
        "from keras.applications.inception_v3 import preprocess_input\n",
        "from keras.datasets.mnist import load_data\n",
        "from skimage.transform import resize\n",
        "\n",
        "fake_image_path = glob(\"/content/drive/MyDrive/sample_images_drive/*\") \n",
        "# scale an array of images to a new size\n",
        "def scale_images(fake_image_path, new_shape):\n",
        "\timages_list = list()\n",
        "\tfor image in fake_image_path:\n",
        "\t\t# resize with nearest neighbor interpolation\n",
        "\t\tnew_image = resize(image, new_shape, 0)\n",
        "\t\t# store\n",
        "\t\timages_list.append(new_image)\n",
        "\treturn asarray(images_list)\n",
        " \n",
        "# calculate frechet inception distance\n",
        "def calculate_fid(model, images1, images2):\n",
        "\t# calculate activations\n",
        "\tact1 = model.predict(images1)\n",
        "\tact2 = model.predict(images2)\n",
        "\t# calculate mean and covariance statistics\n",
        "\tmu1, sigma1 = act1.mean(axis=0), cov(act1, rowvar=False)\n",
        "\tmu2, sigma2 = act2.mean(axis=0), cov(act2, rowvar=False)\n",
        "\t# calculate sum squared difference between means\n",
        "\tssdiff = numpy.sum((mu1 - mu2)**2.0)\n",
        "\t# calculate sqrt of product between cov\n",
        "\tcovmean = sqrtm(sigma1.dot(sigma2))\n",
        "\t# check and correct imaginary numbers from sqrt\n",
        "\tif iscomplexobj(covmean):\n",
        "\t\tcovmean = covmean.real\n",
        "\t# calculate score\n",
        "\tfid = ssdiff + trace(sigma1 + sigma2 - 2.0 * covmean)\n",
        "\treturn fid\n",
        " \n",
        "# prepare the inception v3 model\n",
        "model = InceptionV3(include_top=False, pooling='avg', input_shape=(299,299,3))\n",
        "# define two fake collections of images\n",
        "images1 = randint(0, 255, 10*32*32*3)\n",
        "images1 = images1.reshape((10,32,32,3))\n",
        "images2 = randint(0, 255, 10*32*32*3)\n",
        "images2 = images2.reshape((10,32,32,3))\n",
        "print('Prepared', images1.shape, images2.shape)\n",
        "# convert integer to floating point values\n",
        "images1 = images1.astype('float32')\n",
        "images2 = images2.astype('float32')\n",
        "# resize images\n",
        "images1 = scale_images(images1, (299,299,3))\n",
        "images2 = scale_images(images2, (299,299,3))\n",
        "print('Scaled', images1.shape, images2.shape)\n",
        "# pre-process images\n",
        "images1 = preprocess_input(images1)\n",
        "images2 = preprocess_input(images2)\n",
        "# fid between images1 and images1\n",
        "fid = calculate_fid(model, images1, images1)\n",
        "print('FID (same): %.3f' % fid)\n",
        "# fid between images1 and images2\n",
        "fid = calculate_fid(model, images1, images2)\n",
        "print('FID (different): %.3f' % fid)"
      ]
    },
    {
      "cell_type": "code",
      "execution_count": null,
      "metadata": {
        "colab": {
          "base_uri": "https://localhost:8080/",
          "height": 554
        },
        "id": "UOdbjcusXLc9",
        "outputId": "a759f1fa-c009-4055-daf0-2b8e977c71e3"
      },
      "outputs": [
        {
          "ename": "AttributeError",
          "evalue": "ignored",
          "output_type": "error",
          "traceback": [
            "\u001b[0;31m---------------------------------------------------------------------------\u001b[0m",
            "\u001b[0;31mAttributeError\u001b[0m                            Traceback (most recent call last)",
            "\u001b[0;32m<ipython-input-54-eb00b24d1559>\u001b[0m in \u001b[0;36m<module>\u001b[0;34m\u001b[0m\n\u001b[1;32m      1\u001b[0m \u001b[0mpyplot\u001b[0m\u001b[0;34m.\u001b[0m\u001b[0mfigure\u001b[0m\u001b[0;34m(\u001b[0m\u001b[0mfigsize\u001b[0m\u001b[0;34m=\u001b[0m\u001b[0;34m(\u001b[0m\u001b[0;36m10\u001b[0m\u001b[0;34m,\u001b[0m\u001b[0;36m5\u001b[0m\u001b[0;34m)\u001b[0m\u001b[0;34m)\u001b[0m\u001b[0;34m\u001b[0m\u001b[0;34m\u001b[0m\u001b[0m\n\u001b[1;32m      2\u001b[0m \u001b[0mpyplot\u001b[0m\u001b[0;34m.\u001b[0m\u001b[0mtitle\u001b[0m\u001b[0;34m(\u001b[0m\u001b[0;34m\"Generator and Discriminator Loss During Training\"\u001b[0m\u001b[0;34m)\u001b[0m\u001b[0;34m\u001b[0m\u001b[0;34m\u001b[0m\u001b[0m\n\u001b[0;32m----> 3\u001b[0;31m \u001b[0mpyplot\u001b[0m\u001b[0;34m.\u001b[0m\u001b[0mplot\u001b[0m\u001b[0;34m(\u001b[0m\u001b[0mgan\u001b[0m\u001b[0;34m.\u001b[0m\u001b[0mtrain_step\u001b[0m\u001b[0;34m.\u001b[0m\u001b[0mg_loss\u001b[0m\u001b[0;34m,\u001b[0m\u001b[0mlabel\u001b[0m\u001b[0;34m=\u001b[0m\u001b[0;34m\"G\"\u001b[0m\u001b[0;34m)\u001b[0m\u001b[0;34m\u001b[0m\u001b[0;34m\u001b[0m\u001b[0m\n\u001b[0m\u001b[1;32m      4\u001b[0m \u001b[0mpyplot\u001b[0m\u001b[0;34m.\u001b[0m\u001b[0mplot\u001b[0m\u001b[0;34m(\u001b[0m\u001b[0mgan\u001b[0m\u001b[0;34m.\u001b[0m\u001b[0mtrain_step\u001b[0m\u001b[0;34m.\u001b[0m\u001b[0md1_loss\u001b[0m\u001b[0;34m,\u001b[0m\u001b[0mlabel\u001b[0m\u001b[0;34m=\u001b[0m\u001b[0;34m\"D1\"\u001b[0m\u001b[0;34m)\u001b[0m\u001b[0;34m\u001b[0m\u001b[0;34m\u001b[0m\u001b[0m\n\u001b[1;32m      5\u001b[0m \u001b[0mpyplot\u001b[0m\u001b[0;34m.\u001b[0m\u001b[0mplot\u001b[0m\u001b[0;34m(\u001b[0m\u001b[0mgan\u001b[0m\u001b[0;34m.\u001b[0m\u001b[0mtrain_step\u001b[0m\u001b[0;34m.\u001b[0m\u001b[0md2_loss\u001b[0m\u001b[0;34m,\u001b[0m\u001b[0mlabel\u001b[0m\u001b[0;34m=\u001b[0m\u001b[0;34m\"D2\"\u001b[0m\u001b[0;34m)\u001b[0m\u001b[0;34m\u001b[0m\u001b[0;34m\u001b[0m\u001b[0m\n",
            "\u001b[0;31mAttributeError\u001b[0m: 'function' object has no attribute 'g_loss'"
          ]
        },
        {
          "data": {
            "image/png": "[encoded data removed]",
            "text/plain": [
              "<Figure size 720x360 with 1 Axes>"
            ]
          },
          "metadata": {},
          "output_type": "display_data"
        }
      ],
      "source": [
        "pyplot.figure(figsize=(10,5))\n",
        "pyplot.title(\"Generator and Discriminator Loss During Training\")\n",
        "pyplot.plot(gan.train_step.g_loss,label=\"G\")\n",
        "pyplot.plot(gan.train_step.d1_loss,label=\"D1\")\n",
        "pyplot.plot(gan.train_step.d2_loss,label=\"D2\")\n",
        "pyplot.xlabel(\"iterations\")\n",
        "pyplot.ylabel(\"Loss\")\n",
        "pyplot.legend()\n",
        "pyplot.show()"
      ]
    },
    {
      "cell_type": "markdown",
      "metadata": {
        "id": "QpPfwN7SNlet"
      },
      "source": [
        "# New Section"
      ]
    },
    {
      "cell_type": "markdown",
      "metadata": {
        "id": "4sRskT_mNmD7"
      },
      "source": [
        "# New Section"
      ]
    }
  ],
  "metadata": {
    "colab": {
      "provenance": [],
      "include_colab_link": true
    },
    "kernelspec": {
      "display_name": "Python 3",
      "name": "python3"
    },
    "language_info": {
      "name": "python"
    }
  },
  "nbformat": 4,
  "nbformat_minor": 0
}